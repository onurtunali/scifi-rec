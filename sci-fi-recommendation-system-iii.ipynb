{
 "cells": [
  {
   "cell_type": "markdown",
   "id": "8a7bc15e",
   "metadata": {
    "papermill": {
     "duration": 0.014659,
     "end_time": "2021-11-30T12:15:55.385864",
     "exception": false,
     "start_time": "2021-11-30T12:15:55.371205",
     "status": "completed"
    },
    "tags": []
   },
   "source": [
    "# SCI-FI BOOK RECOMMENDATION ENGINE: PART III\n",
    "\n",
    "After we have cleaned and run EDA on the dataset, we can finally implement recommendation engine."
   ]
  },
  {
   "cell_type": "code",
   "execution_count": 49,
   "id": "11cc0698",
   "metadata": {
    "_cell_guid": "b1076dfc-b9ad-4769-8c92-a6c4dae69d19",
    "_uuid": "8f2839f25d086af736a60e9eeb907d3b93b6e0e5",
    "execution": {
     "iopub.execute_input": "2021-11-30T12:15:55.417312Z",
     "iopub.status.busy": "2021-11-30T12:15:55.416038Z",
     "iopub.status.idle": "2021-11-30T12:15:55.821647Z",
     "shell.execute_reply": "2021-11-30T12:15:55.820802Z",
     "shell.execute_reply.started": "2021-11-30T12:02:41.636073Z"
    },
    "papermill": {
     "duration": 0.422048,
     "end_time": "2021-11-30T12:15:55.821832",
     "exception": false,
     "start_time": "2021-11-30T12:15:55.399784",
     "status": "completed"
    },
    "tags": []
   },
   "outputs": [],
   "source": [
    "import numpy as np # linear algebra\n",
    "import pandas as pd # data processing, CSV file I/O (e.g. pd.read_csv)\n",
    "\n",
    "import os\n",
    "for dirname, _, filenames in os.walk('/kaggle/input'):\n",
    "    for filename in filenames:\n",
    "        print(os.path.join(dirname, filename))\n",
    "        \n",
    "df = pd.read_csv(\"data/scifi_with_cover.csv\")"
   ]
  },
  {
   "cell_type": "markdown",
   "id": "6c8ff874",
   "metadata": {
    "papermill": {
     "duration": 0.014049,
     "end_time": "2021-11-30T12:15:55.852259",
     "exception": false,
     "start_time": "2021-11-30T12:15:55.838210",
     "status": "completed"
    },
    "tags": []
   },
   "source": [
    "To determine similarity between two books, we generate a new combined feature which includes author name, genres and description."
   ]
  },
  {
   "cell_type": "code",
   "execution_count": 50,
   "id": "abcc5b4b",
   "metadata": {
    "execution": {
     "iopub.execute_input": "2021-11-30T12:15:55.884047Z",
     "iopub.status.busy": "2021-11-30T12:15:55.883312Z",
     "iopub.status.idle": "2021-11-30T12:15:56.303926Z",
     "shell.execute_reply": "2021-11-30T12:15:56.303194Z",
     "shell.execute_reply.started": "2021-11-30T12:13:04.775624Z"
    },
    "papermill": {
     "duration": 0.437803,
     "end_time": "2021-11-30T12:15:56.304071",
     "exception": false,
     "start_time": "2021-11-30T12:15:55.866268",
     "status": "completed"
    },
    "tags": []
   },
   "outputs": [],
   "source": [
    "def combine_features(record):\n",
    "    try:\n",
    "        genres = record.genres\n",
    "        author_name = \"_\".join(record.author_name.lower().split(\" \"))\n",
    "        description = record.book_description\n",
    "        feature = f\"{author_name} {genres} {description}\"\n",
    "        return feature\n",
    "    except:\n",
    "        print(temp)\n",
    "\n",
    "df[\"combined_features\"] = df.apply(combine_features, axis=1)"
   ]
  },
  {
   "cell_type": "code",
   "execution_count": 96,
   "id": "5cc82829",
   "metadata": {},
   "outputs": [
    {
     "data": {
      "text/plain": [
       "1    https://www.goodreads.com/book/show/40651883-s...\n",
       "Name: url, dtype: object"
      ]
     },
     "execution_count": 96,
     "metadata": {},
     "output_type": "execute_result"
    }
   ],
   "source": [
    "df[df.book_title.apply(lambda x: x.strip().lower()) == \"snow crash\"].url"
   ]
  },
  {
   "cell_type": "code",
   "execution_count": 95,
   "id": "f5eebe0a",
   "metadata": {},
   "outputs": [
    {
     "data": {
      "text/plain": [
       "'snow crash'"
      ]
     },
     "execution_count": 95,
     "metadata": {},
     "output_type": "execute_result"
    }
   ],
   "source": [
    "df.loc[1].book_title.strip().lower()"
   ]
  },
  {
   "cell_type": "markdown",
   "id": "60b0ffe8",
   "metadata": {
    "papermill": {
     "duration": 0.013645,
     "end_time": "2021-11-30T12:15:56.331573",
     "exception": false,
     "start_time": "2021-11-30T12:15:56.317928",
     "status": "completed"
    },
    "tags": []
   },
   "source": [
    " Afterwards, we tokenize the combined features and calculate cosine similarity between the resulted vectors."
   ]
  },
  {
   "cell_type": "code",
   "execution_count": 3,
   "id": "c8864415",
   "metadata": {
    "execution": {
     "iopub.execute_input": "2021-11-30T12:15:56.366268Z",
     "iopub.status.busy": "2021-11-30T12:15:56.365341Z",
     "iopub.status.idle": "2021-11-30T12:16:04.002016Z",
     "shell.execute_reply": "2021-11-30T12:16:04.000888Z",
     "shell.execute_reply.started": "2021-11-30T12:13:37.356416Z"
    },
    "papermill": {
     "duration": 7.656508,
     "end_time": "2021-11-30T12:16:04.002207",
     "exception": false,
     "start_time": "2021-11-30T12:15:56.345699",
     "status": "completed"
    },
    "tags": []
   },
   "outputs": [],
   "source": [
    "from sklearn.feature_extraction.text import CountVectorizer\n",
    "from sklearn.metrics.pairwise import cosine_similarity\n",
    "\n",
    "cv = CountVectorizer(stop_words=\"english\")\n",
    "\n",
    "count_matrix= cv.fit_transform(df[\"combined_features\"])\n",
    "cosine_similarity_matrix = cosine_similarity(count_matrix)"
   ]
  },
  {
   "cell_type": "markdown",
   "id": "520b2e8d",
   "metadata": {
    "papermill": {
     "duration": 0.013872,
     "end_time": "2021-11-30T12:16:04.030714",
     "exception": false,
     "start_time": "2021-11-30T12:16:04.016842",
     "status": "completed"
    },
    "tags": []
   },
   "source": [
    "As an example, we choose the classic cyberpunk book Neuromancer."
   ]
  },
  {
   "cell_type": "code",
   "execution_count": 22,
   "id": "fbdc065e",
   "metadata": {
    "execution": {
     "iopub.execute_input": "2021-11-30T12:16:04.062491Z",
     "iopub.status.busy": "2021-11-30T12:16:04.061366Z",
     "iopub.status.idle": "2021-11-30T12:16:04.079053Z",
     "shell.execute_reply": "2021-11-30T12:16:04.079626Z",
     "shell.execute_reply.started": "2021-11-30T12:13:49.573030Z"
    },
    "papermill": {
     "duration": 0.035283,
     "end_time": "2021-11-30T12:16:04.079806",
     "exception": false,
     "start_time": "2021-11-30T12:16:04.044523",
     "status": "completed"
    },
    "tags": []
   },
   "outputs": [],
   "source": [
    "book_user_like = \"Count Zero\"\n",
    "book_ID = df[df.book_title == book_user_like].id.values\n",
    "book_record = df.loc[book_ID]\n",
    "book_genres = set(book_record.genres.split(\" \"))"
   ]
  },
  {
   "cell_type": "code",
   "execution_count": 38,
   "id": "dbb060d1",
   "metadata": {},
   "outputs": [],
   "source": [
    "src = \"\"\"\n",
    "| Cover | Book Title | Author | Description | Rating |\n",
    "| --- | --- | --- | --- | --- |\"\"\""
   ]
  },
  {
   "cell_type": "code",
   "execution_count": 39,
   "id": "36c87d17",
   "metadata": {},
   "outputs": [
    {
     "data": {
      "text/plain": [
       "'\\n| Cover | Book Title | Author | Description | Rating |\\n| --- | --- | --- | --- | --- |\\n| ![](https://i.gr-assets.com/images/S/compressed.photo.goodreads.com/books/1554437249l/6088007._SY475_.jpg | Neuromancer | William Gibson | Hotwired to the leading edges of art and technology, Neuromancer is a cyberpunk, science fiction masterpiece—a classic that ranks with 1984 and Brave New World as one of the twentieth century’s most potent visions of the future.The Matrix is a world within the world, a global consensus-hallucination, the representation of every byte of data in cyberspace...Henry Dorsett Case was the sharpest data-thief in the business, until vengeful former employees crippled his nervous system. But now a new and very mysterious employer recruits him for a last-chance run. The target: an unthinkably powerful artificial intelligence orbiting Earth in service of the sinister Tessier-Ashpool business clan. With a dead man riding shotgun and Molly, mirror-eyed street-samurai, to watch his back, Case embarks on an adventure that ups the ante on an entire genre of fiction.The winner of the Hugo, Nebula, and Philip K. Dick Awards, Neuromancer was the first fully-realized glimpse of humankind’s digital future—a shocking vision that has challenged our assumptions about our technology and ourselves, reinvented the way we speak and think, and forever altered the landscape of our imaginations. | 3.9 |'"
      ]
     },
     "execution_count": 39,
     "metadata": {},
     "output_type": "execute_result"
    }
   ],
   "source": [
    "temp = df.loc[0, [\"cover\", \"book_title\", \"author_name\", \"book_description\",  \"rating_score\"]].values\n",
    "\n",
    "str_ = f\"| ![]({temp[0]} | {temp[1]} | {temp[2]} | {temp[3]} | {temp[4]} |\"\n",
    "src = f\"{src}\\n{str_}\"\n",
    "src"
   ]
  },
  {
   "cell_type": "code",
   "execution_count": 5,
   "id": "14822b49",
   "metadata": {
    "execution": {
     "iopub.execute_input": "2021-11-30T12:16:04.111783Z",
     "iopub.status.busy": "2021-11-30T12:16:04.111089Z",
     "iopub.status.idle": "2021-11-30T12:16:04.132122Z",
     "shell.execute_reply": "2021-11-30T12:16:04.132691Z",
     "shell.execute_reply.started": "2021-11-30T12:13:54.359348Z"
    },
    "papermill": {
     "duration": 0.03875,
     "end_time": "2021-11-30T12:16:04.132877",
     "exception": false,
     "start_time": "2021-11-30T12:16:04.094127",
     "status": "completed"
    },
    "tags": []
   },
   "outputs": [
    {
     "data": {
      "text/plain": [
       "[(0, 0.9999999999999983),\n",
       " (2769, 0.3002781641765874),\n",
       " (2419, 0.29497166232283906),\n",
       " (309, 0.25279945218534405),\n",
       " (6873, 0.2507132682112035),\n",
       " (8262, 0.24842360136324754),\n",
       " (398, 0.24806946917841688),\n",
       " (306, 0.243599382882345),\n",
       " (1681, 0.23717082451262847),\n",
       " (389, 0.23669053416557545),\n",
       " (5111, 0.23669053416557545),\n",
       " (1095, 0.2344036154692477),\n",
       " (300, 0.23080703932272442),\n",
       " (8219, 0.23002185311411805),\n",
       " (216, 0.2271720556255607),\n",
       " (8980, 0.22594340036404523),\n",
       " (5444, 0.22554842722407936),\n",
       " (3054, 0.22537446792760438),\n",
       " (10, 0.22427130678626514),\n",
       " (359, 0.2231122741860899)]"
      ]
     },
     "execution_count": 5,
     "metadata": {},
     "output_type": "execute_result"
    }
   ],
   "source": [
    "similar_books = list(enumerate(cosine_similarity_matrix[book_ID]))\n",
    "sorted_similar_books = sorted(similar_books,key=lambda x:x[1],reverse=True)\n",
    "sorted_similar_books[:20]"
   ]
  },
  {
   "cell_type": "code",
   "execution_count": 6,
   "id": "bcf2f7e0",
   "metadata": {
    "execution": {
     "iopub.execute_input": "2021-11-30T12:16:04.165965Z",
     "iopub.status.busy": "2021-11-30T12:16:04.165257Z",
     "iopub.status.idle": "2021-11-30T12:16:04.211964Z",
     "shell.execute_reply": "2021-11-30T12:16:04.211260Z",
     "shell.execute_reply.started": "2021-11-30T12:13:57.738243Z"
    },
    "papermill": {
     "duration": 0.064456,
     "end_time": "2021-11-30T12:16:04.212137",
     "exception": false,
     "start_time": "2021-11-30T12:16:04.147681",
     "status": "completed"
    },
    "tags": []
   },
   "outputs": [
    {
     "name": "stdout",
     "output_type": "stream",
     "text": [
      "Neuromancer William Gibson fiction cyberpunk classics dystopia novels audiobook\n",
      "Book: BRAVE NEW WORLD REVISITED Author:ALDOUS HUXLEY and Genres: {'dystopia', 'fiction', 'classics'}\n",
      "Book: BRAVE NEW WORLD / BRAVE NEW WORLD REVISITED Author:ALDOUS HUXLEY and Genres: {'dystopia', 'novels', 'fiction', 'classics'}\n",
      "Book: LAST TANGO IN CYBERSPACE Author:STEVEN KOTLER and Genres: {'novels', 'cyberpunk', 'fiction'}\n",
      "Book: THRICE UPON A TIME Author:JAMES P. HOGAN and Genres: {'novels', 'audiobook', 'fiction'}\n",
      "Book: CHILDREN OF THE NEW WORLD Author:ALEXANDER        WEINSTEIN and Genres: {'dystopia', 'audiobook', 'fiction'}\n",
      "Book: NULL STATES Author:MALKA ANN OLDER and Genres: {'dystopia', 'audiobook', 'cyberpunk', 'fiction'}\n",
      "Book: SHADOWRUN 14: NOSFERATU Author:CARL SARGENT and Genres: {'cyberpunk', 'dystopia', 'fiction'}\n",
      "Book: THE STAND Author:STEPHEN KING and Genres: {'dystopia', 'audiobook', 'fiction', 'classics'}\n",
      "Book: WILLIAM GIBSON'S NEUROMANCER: THE GRAPHIC NOVEL Author:WILLIAM GIBSON and Genres: {'cyberpunk', 'fiction'}\n",
      "Book: A SHORT HISTORY OF THE FUTURE Author:W. WARREN WAGAR and Genres: {'fiction'}\n",
      "Book: CURRENCY Author:NEAL STEPHENSON and Genres: {'novels', 'audiobook', 'cyberpunk', 'fiction'}\n",
      "Book: SLANT Author:GREG BEAR and Genres: {'dystopia', 'cyberpunk', 'fiction'}\n",
      "Book: STATION ZERO Author:PHILIP REEVE and Genres: {'audiobook', 'cyberpunk', 'fiction'}\n",
      "Book: CYBERPUNK: STORIES OF HARDWARE, SOFTWARE, WETWARE, EVOLUTION, AND REVOLUTION Author:VICTORIA BLAKE and Genres: {'cyberpunk', 'fiction'}\n",
      "Book: CHILDREN OF THE DUST Author:LOUISE LAWRENCE and Genres: {'dystopia', 'novels', 'fiction'}\n",
      "Book: NEXT Author:MICHAEL CRICHTON and Genres: {'novels', 'fiction'}\n",
      "Book: WORLD MADE BY HAND Author:JAMES HOWARD KUNSTLER and Genres: {'dystopia', 'novels', 'fiction'}\n",
      "Book: IDORU Author:WILLIAM GIBSON and Genres: {'dystopia', 'novels', 'cyberpunk', 'fiction'}\n",
      "Book: THE ULTIMATE CYBERPUNK Author:PAT CADIGAN and Genres: {'cyberpunk', 'fiction'}\n"
     ]
    }
   ],
   "source": [
    "limit = 20\n",
    "print(book_record.book_title, book_record.author_name, book_record.genres)\n",
    "for element in sorted_similar_books[1:limit]:\n",
    "    book_index = element[0]\n",
    "    recommendation = df[df.id == book_index][\"book_title\"].values[0] \n",
    "    author = df[df.id == book_index][\"author_name\"].values[0]\n",
    "    genres = df[df.id == book_index][\"genres\"].values[0]\n",
    "    genres = set(genres.split(\" \"))\n",
    "    common_genres = book_genres.intersection(genres)\n",
    "    print(f\"Book: {recommendation.upper()} Author:{author.upper()} and Genres: {common_genres}\")"
   ]
  },
  {
   "cell_type": "markdown",
   "id": "9dd5aa7b",
   "metadata": {
    "papermill": {
     "duration": 0.014594,
     "end_time": "2021-11-30T12:16:04.241360",
     "exception": false,
     "start_time": "2021-11-30T12:16:04.226766",
     "status": "completed"
    },
    "tags": []
   },
   "source": [
    "We can implement a weighted similarity matrix to increase the importance of certain terms such as author name and genres. However, finding the corresponding term in `count_matrix` and modifiying the value would take too much time. An example implementation is as follows:\n",
    "\n",
    "```python\n",
    "for i in range(df.shape[0]):\n",
    "    weighted_terms = df.loc[i].genres\n",
    "    weighted_terms = weighted_terms.split(\" \")\n",
    "    index = [ cv.get_feature_names().index(item.lower()) for item in weighted_terms]\n",
    "    for k in index:\n",
    "        count_matrix[i,k] *= 100\n",
    "```\n",
    "\n",
    "There are 2 for loops inside another for loop and running this would be a nightmare in terms of time. For this reason, we preallocate a matrix including all the authors and genres as columns and rows as count vectors for each record. Using this strategy, we can construct the weight matrix and combine it with count matrix for descriptions."
   ]
  },
  {
   "cell_type": "code",
   "execution_count": 97,
   "id": "9d5fcac2",
   "metadata": {
    "execution": {
     "iopub.execute_input": "2021-11-30T12:16:04.291571Z",
     "iopub.status.busy": "2021-11-30T12:16:04.280812Z",
     "iopub.status.idle": "2021-11-30T12:16:06.277980Z",
     "shell.execute_reply": "2021-11-30T12:16:06.277396Z",
     "shell.execute_reply.started": "2021-11-30T12:14:04.866193Z"
    },
    "papermill": {
     "duration": 2.021171,
     "end_time": "2021-11-30T12:16:06.278130",
     "exception": false,
     "start_time": "2021-11-30T12:16:04.256959",
     "status": "completed"
    },
    "tags": []
   },
   "outputs": [],
   "source": [
    "from scipy.sparse import csr_matrix, hstack\n",
    "\n",
    "def combine_name(author_name):\n",
    "    return author_name.lower().replace(\" \", \"_\")\n",
    "\n",
    "\n",
    "uniq_genres_authors = set()\n",
    "feature_dict = {}\n",
    "\n",
    "for genre_list in df.genres:\n",
    "    for genre in genre_list.split(\" \"):\n",
    "        uniq_genres_authors.add(genre)\n",
    "        \n",
    "for author in df.author_name:\n",
    "    temp= combine_name(author)\n",
    "    uniq_genres_authors.add(temp)\n",
    "        \n",
    "\n",
    "feature_dict = {item:index for index, item in enumerate(uniq_genres_authors)}\n",
    "\n",
    "# for index, item in enumerate(uniq_genres):\n",
    "#     feature_dict[item] = index\n",
    "    \n",
    "weight_matrix = np.zeros((df.shape[0], len(feature_dict)))\n",
    "\n",
    "for index in range(df.shape[0]):\n",
    "    temp = []\n",
    "    record = df.loc[index]\n",
    "    temp.append(combine_name(record.author_name))\n",
    "    for item in record.genres.split(\" \"):\n",
    "        temp.append(item)\n",
    "        \n",
    "    for item in temp:\n",
    "        weight_matrix[index, feature_dict[item]] = 100 # Arbitrary weight and can be adjusted\n",
    "\n"
   ]
  },
  {
   "cell_type": "code",
   "execution_count": 135,
   "id": "cd7a0409",
   "metadata": {},
   "outputs": [
    {
     "data": {
      "text/html": [
       "<div>\n",
       "<style scoped>\n",
       "    .dataframe tbody tr th:only-of-type {\n",
       "        vertical-align: middle;\n",
       "    }\n",
       "\n",
       "    .dataframe tbody tr th {\n",
       "        vertical-align: top;\n",
       "    }\n",
       "\n",
       "    .dataframe thead th {\n",
       "        text-align: right;\n",
       "    }\n",
       "</style>\n",
       "<table border=\"1\" class=\"dataframe\">\n",
       "  <thead>\n",
       "    <tr style=\"text-align: right;\">\n",
       "      <th></th>\n",
       "      <th>book_title</th>\n",
       "      <th>author_name</th>\n",
       "      <th>edition_language</th>\n",
       "      <th>rating_score</th>\n",
       "      <th>rating_votes</th>\n",
       "      <th>review_number</th>\n",
       "      <th>book_description</th>\n",
       "      <th>year_published</th>\n",
       "      <th>genres</th>\n",
       "      <th>url</th>\n",
       "      <th>id</th>\n",
       "      <th>cover</th>\n",
       "      <th>combined_features</th>\n",
       "    </tr>\n",
       "  </thead>\n",
       "  <tbody>\n",
       "    <tr>\n",
       "      <th>2</th>\n",
       "      <td>Count Zero</td>\n",
       "      <td>William Gibson</td>\n",
       "      <td>English</td>\n",
       "      <td>4.01</td>\n",
       "      <td>46114</td>\n",
       "      <td>1219</td>\n",
       "      <td>A corporate mercenary wakes in a reconstructed...</td>\n",
       "      <td>1986</td>\n",
       "      <td>cyberpunk fiction dystopia novels canada american</td>\n",
       "      <td>https://www.goodreads.com/book/show/22200.Coun...</td>\n",
       "      <td>2</td>\n",
       "      <td>https://i.gr-assets.com/images/S/compressed.ph...</td>\n",
       "      <td>william_gibson cyberpunk fiction dystopia nove...</td>\n",
       "    </tr>\n",
       "  </tbody>\n",
       "</table>\n",
       "</div>"
      ],
      "text/plain": [
       "   book_title     author_name edition_language  rating_score  rating_votes  \\\n",
       "2  Count Zero  William Gibson          English          4.01         46114   \n",
       "\n",
       "   review_number                                   book_description  \\\n",
       "2           1219  A corporate mercenary wakes in a reconstructed...   \n",
       "\n",
       "   year_published                                             genres  \\\n",
       "2            1986  cyberpunk fiction dystopia novels canada american   \n",
       "\n",
       "                                                 url  id  \\\n",
       "2  https://www.goodreads.com/book/show/22200.Coun...   2   \n",
       "\n",
       "                                               cover  \\\n",
       "2  https://i.gr-assets.com/images/S/compressed.ph...   \n",
       "\n",
       "                                   combined_features  \n",
       "2  william_gibson cyberpunk fiction dystopia nove...  "
      ]
     },
     "execution_count": 135,
     "metadata": {},
     "output_type": "execute_result"
    }
   ],
   "source": [
    "book_user_like= \"Count Zero\"\n",
    "book_user_like = book_user_like.strip().lower()\n",
    "type(df[df.book_title.apply(lambda x: x.strip().lower()) == book_user_like])\n",
    "df[df.book_title.apply(lambda x: x.strip().lower()) == book_user_like]"
   ]
  },
  {
   "cell_type": "code",
   "execution_count": 8,
   "id": "095a0580",
   "metadata": {
    "execution": {
     "iopub.execute_input": "2021-11-30T12:16:06.312767Z",
     "iopub.status.busy": "2021-11-30T12:16:06.312060Z",
     "iopub.status.idle": "2021-11-30T12:16:08.133809Z",
     "shell.execute_reply": "2021-11-30T12:16:08.133205Z",
     "shell.execute_reply.started": "2021-11-30T12:14:15.370390Z"
    },
    "papermill": {
     "duration": 1.840819,
     "end_time": "2021-11-30T12:16:08.133961",
     "exception": false,
     "start_time": "2021-11-30T12:16:06.293142",
     "status": "completed"
    },
    "tags": []
   },
   "outputs": [],
   "source": [
    "cv = CountVectorizer(stop_words=\"english\")\n",
    "desc_count_matrix= cv.fit_transform(df[\"book_description\"])"
   ]
  },
  {
   "cell_type": "code",
   "execution_count": 9,
   "id": "2e62e50b",
   "metadata": {
    "execution": {
     "iopub.execute_input": "2021-11-30T12:16:08.168190Z",
     "iopub.status.busy": "2021-11-30T12:16:08.167447Z",
     "iopub.status.idle": "2021-11-30T12:16:08.600246Z",
     "shell.execute_reply": "2021-11-30T12:16:08.600795Z",
     "shell.execute_reply.started": "2021-11-30T12:14:21.381362Z"
    },
    "papermill": {
     "duration": 0.452522,
     "end_time": "2021-11-30T12:16:08.600978",
     "exception": false,
     "start_time": "2021-11-30T12:16:08.148456",
     "status": "completed"
    },
    "tags": []
   },
   "outputs": [
    {
     "data": {
      "text/plain": [
       "scipy.sparse.coo.coo_matrix"
      ]
     },
     "execution_count": 9,
     "metadata": {},
     "output_type": "execute_result"
    }
   ],
   "source": [
    "weight_matrix = csr_matrix(weight_matrix)\n",
    "combined_matrix = hstack((weight_matrix, desc_count_matrix))\n",
    "type(combined_matrix)"
   ]
  },
  {
   "cell_type": "code",
   "execution_count": 10,
   "id": "ce96b125",
   "metadata": {
    "execution": {
     "iopub.execute_input": "2021-11-30T12:16:08.635527Z",
     "iopub.status.busy": "2021-11-30T12:16:08.634408Z",
     "iopub.status.idle": "2021-11-30T12:16:12.232418Z",
     "shell.execute_reply": "2021-11-30T12:16:12.231743Z",
     "shell.execute_reply.started": "2021-11-30T12:14:25.335224Z"
    },
    "papermill": {
     "duration": 3.617023,
     "end_time": "2021-11-30T12:16:12.232592",
     "exception": false,
     "start_time": "2021-11-30T12:16:08.615569",
     "status": "completed"
    },
    "tags": []
   },
   "outputs": [],
   "source": [
    "cosine_similarity_matrix = cosine_similarity(combined_matrix)"
   ]
  },
  {
   "cell_type": "code",
   "execution_count": 11,
   "id": "51814540",
   "metadata": {
    "execution": {
     "iopub.execute_input": "2021-11-30T12:16:12.287589Z",
     "iopub.status.busy": "2021-11-30T12:16:12.286420Z",
     "iopub.status.idle": "2021-11-30T12:16:12.291539Z",
     "shell.execute_reply": "2021-11-30T12:16:12.290976Z",
     "shell.execute_reply.started": "2021-11-30T12:14:33.394488Z"
    },
    "papermill": {
     "duration": 0.043955,
     "end_time": "2021-11-30T12:16:12.291695",
     "exception": false,
     "start_time": "2021-11-30T12:16:12.247740",
     "status": "completed"
    },
    "tags": []
   },
   "outputs": [
    {
     "data": {
      "text/plain": [
       "[(0, 0.9999999999999992),\n",
       " (1, 0.8561360847556276),\n",
       " (84, 0.8009772968393042),\n",
       " (18, 0.8003460503559313),\n",
       " (9, 0.7135356941374834),\n",
       " (2, 0.7135112341121717),\n",
       " (5, 0.7134959505354028),\n",
       " (3070, 0.713449137621607),\n",
       " (4967, 0.713449094744709),\n",
       " (21, 0.7134175285504063),\n",
       " (293, 0.7134023058751567),\n",
       " (2599, 0.7133941375578393),\n",
       " (51, 0.7133180280561168),\n",
       " (1885, 0.7133119432491127),\n",
       " (180, 0.7133036769849712),\n",
       " (4, 0.713236553045603),\n",
       " (5386, 0.7131407115420931),\n",
       " (13, 0.7131387199706523),\n",
       " (197, 0.7128968689411321),\n",
       " (130, 0.7127726553731508)]"
      ]
     },
     "execution_count": 11,
     "metadata": {},
     "output_type": "execute_result"
    }
   ],
   "source": [
    "similar_books = list(enumerate(cosine_similarity_matrix[book_ID]))\n",
    "sorted_similar_books = sorted(similar_books,key=lambda x:x[1],reverse=True)\n",
    "sorted_similar_books[:20]"
   ]
  },
  {
   "cell_type": "code",
   "execution_count": 12,
   "id": "e5a9ad09",
   "metadata": {
    "execution": {
     "iopub.execute_input": "2021-11-30T12:16:12.335396Z",
     "iopub.status.busy": "2021-11-30T12:16:12.333336Z",
     "iopub.status.idle": "2021-11-30T12:16:12.371170Z",
     "shell.execute_reply": "2021-11-30T12:16:12.370419Z",
     "shell.execute_reply.started": "2021-11-30T12:14:36.632239Z"
    },
    "papermill": {
     "duration": 0.064233,
     "end_time": "2021-11-30T12:16:12.371321",
     "exception": false,
     "start_time": "2021-11-30T12:16:12.307088",
     "status": "completed"
    },
    "tags": []
   },
   "outputs": [
    {
     "name": "stdout",
     "output_type": "stream",
     "text": [
      "Neuromancer William Gibson fiction cyberpunk classics dystopia novels audiobook\n",
      "Book: SNOW CRASH Author:NEAL STEPHENSON and Genres: {'audiobook', 'novels', 'cyberpunk', 'fiction', 'dystopia', 'classics'}\n",
      "Book: AGENCY Author:WILLIAM GIBSON and Genres: {'audiobook', 'novels', 'cyberpunk', 'fiction', 'dystopia'}\n",
      "Book: THE PERIPHERAL Author:WILLIAM GIBSON and Genres: {'audiobook', 'novels', 'cyberpunk', 'fiction', 'dystopia'}\n",
      "Book: VIRTUAL LIGHT Author:WILLIAM GIBSON and Genres: {'dystopia', 'novels', 'cyberpunk', 'fiction'}\n",
      "Book: COUNT ZERO Author:WILLIAM GIBSON and Genres: {'dystopia', 'novels', 'cyberpunk', 'fiction'}\n",
      "Book: DO ANDROIDS DREAM OF ELECTRIC SHEEP Author:PHILIP K. DICK and Genres: {'novels', 'cyberpunk', 'fiction', 'dystopia', 'classics'}\n",
      "Book: THE CITY AND THE STARS Author:ARTHUR C. CLARKE and Genres: {'audiobook', 'novels', 'fiction', 'dystopia', 'classics'}\n",
      "Book: THE END OF ETERNITY Author:ISAAC ASIMOV and Genres: {'audiobook', 'novels', 'fiction', 'dystopia', 'classics'}\n",
      "Book: HARDWIRED Author:WALTER JON WILLIAMS and Genres: {'audiobook', 'novels', 'cyberpunk', 'fiction', 'dystopia'}\n",
      "Book: FLOW MY TEARS, THE POLICEMAN SAID Author:PHILIP K. DICK and Genres: {'audiobook', 'novels', 'fiction', 'dystopia', 'classics'}\n",
      "Book: CHILDHOOD'S END Author:ARTHUR C. CLARKE and Genres: {'audiobook', 'novels', 'fiction', 'dystopia', 'classics'}\n",
      "Book: DOWN AND OUT IN THE MAGIC KINGDOM Author:CORY DOCTOROW and Genres: {'audiobook', 'novels', 'cyberpunk', 'fiction', 'dystopia'}\n",
      "Book: THE LATHE OF HEAVEN Author:URSULA K. LE GUIN and Genres: {'audiobook', 'novels', 'fiction', 'dystopia', 'classics'}\n",
      "Book: STAND ON ZANZIBAR Author:JOHN BRUNNER and Genres: {'novels', 'cyberpunk', 'fiction', 'dystopia', 'classics'}\n",
      "Book: MONA LISA OVERDRIVE Author:WILLIAM GIBSON and Genres: {'dystopia', 'novels', 'cyberpunk', 'fiction'}\n",
      "Book: GALACTIC POT-HEALER Author:PHILIP K. DICK and Genres: {'audiobook', 'novels', 'fiction', 'dystopia', 'classics'}\n",
      "Book: ALL TOMORROW'S PARTIES Author:WILLIAM GIBSON and Genres: {'dystopia', 'novels', 'cyberpunk', 'fiction'}\n",
      "Book: WALKAWAY Author:CORY DOCTOROW and Genres: {'audiobook', 'novels', 'fiction', 'cyberpunk', 'dystopia'}\n",
      "Book: FALL; OR, DODGE IN HELL Author:NEAL STEPHENSON and Genres: {'audiobook', 'novels', 'cyberpunk', 'fiction', 'dystopia'}\n"
     ]
    }
   ],
   "source": [
    "limit = 20\n",
    "print(book_record.book_title, book_record.author_name, book_record.genres)\n",
    "for element in sorted_similar_books[1:limit]:\n",
    "    book_index = element[0]\n",
    "    recommendation = df[df.id == book_index][\"book_title\"].values[0] \n",
    "    author = df[df.id == book_index][\"author_name\"].values[0]\n",
    "    genres = df[df.id == book_index][\"genres\"].values[0]\n",
    "    genres = set(genres.split(\" \"))\n",
    "    common_genres = book_genres.intersection(genres)\n",
    "    print(f\"Book: {recommendation.upper()} Author:{author.upper()} and Genres: {common_genres}\")"
   ]
  },
  {
   "cell_type": "code",
   "execution_count": 34,
   "id": "a7af339d",
   "metadata": {},
   "outputs": [
    {
     "data": {
      "text/plain": [
       "array(['https://i.gr-assets.com/images/S/compressed.photo.goodreads.com/books/1348917674l/2128197.jpg',\n",
       "       'https://i.gr-assets.com/images/S/compressed.photo.goodreads.com/books/1386924475l/216215.jpg',\n",
       "       'https://i.gr-assets.com/images/S/compressed.photo.goodreads.com/books/1630637257l/960._SX318_.jpg',\n",
       "       'https://i.gr-assets.com/images/S/compressed.photo.goodreads.com/books/1470040819l/29776927._SY475_.jpg',\n",
       "       'https://i.gr-assets.com/images/S/compressed.photo.goodreads.com/books/1330759845l/13507967.jpg',\n",
       "       'https://i.gr-assets.com/images/S/compressed.photo.goodreads.com/books/1388210968l/84119.jpg',\n",
       "       'https://i.gr-assets.com/images/S/compressed.photo.goodreads.com/books/1360807066l/16102412.jpg',\n",
       "       'https://i.gr-assets.com/images/S/compressed.photo.goodreads.com/books/1388183880l/72989.jpg',\n",
       "       'https://i.gr-assets.com/images/S/compressed.photo.goodreads.com/books/1438813494l/7193226._SY475_.jpg',\n",
       "       'https://i.gr-assets.com/images/S/compressed.photo.goodreads.com/books/1472826235l/31423554._SY475_.jpg'],\n",
       "      dtype=object)"
      ]
     },
     "execution_count": 34,
     "metadata": {},
     "output_type": "execute_result"
    }
   ],
   "source": [
    "random_books = np.random.randint(0, df.shape[0], 10)\n",
    "random_books\n",
    "df.iloc[random_books].cover.values"
   ]
  },
  {
   "cell_type": "code",
   "execution_count": 48,
   "id": "08a8428d",
   "metadata": {},
   "outputs": [
    {
     "data": {
      "text/plain": [
       "0.0001"
      ]
     },
     "execution_count": 48,
     "metadata": {},
     "output_type": "execute_result"
    }
   ],
   "source": [
    "from time import perf_counter\n",
    "\n",
    "start_time = perf_counter()\n",
    "finish_time = perf_counter()\n",
    "passed_time = finish_time - start_time\n",
    "round(passed_time,4)"
   ]
  }
 ],
 "metadata": {
  "kernelspec": {
   "display_name": "Python 3",
   "language": "python",
   "name": "python3"
  },
  "language_info": {
   "codemirror_mode": {
    "name": "ipython",
    "version": 3
   },
   "file_extension": ".py",
   "mimetype": "text/x-python",
   "name": "python",
   "nbconvert_exporter": "python",
   "pygments_lexer": "ipython3",
   "version": "3.7.6"
  },
  "papermill": {
   "default_parameters": {},
   "duration": 27.648625,
   "end_time": "2021-11-30T12:16:13.198352",
   "environment_variables": {},
   "exception": null,
   "input_path": "__notebook__.ipynb",
   "output_path": "__notebook__.ipynb",
   "parameters": {},
   "start_time": "2021-11-30T12:15:45.549727",
   "version": "2.3.3"
  }
 },
 "nbformat": 4,
 "nbformat_minor": 5
}
